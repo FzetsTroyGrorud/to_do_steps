{
 "cells": [
  {
   "cell_type": "code",
   "execution_count": null,
   "metadata": {},
   "outputs": [],
   "source": [
    "hours_per_day = 24\n",
    "mins_per_hour = (60 * 60)\n",
    "seconds_per_hour = (60 * 60)\n",
    "seconds_per_day = (hours_per_day * seconds_per_hour) \n",
    "print(f\"There are {seconds_per_hour} seconds in an hour\")\n",
    "print(f\"There are {seconds_per_day} seconds in an day\")"
   ]
  }
 ],
 "metadata": {
  "language_info": {
   "name": "python"
  }
 },
 "nbformat": 4,
 "nbformat_minor": 2
}
